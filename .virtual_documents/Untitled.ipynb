

















#import necessary Libraries and packages 
import pandas as pd
import numpy as np
import matplotlib.pyplot as plt
import seaborn as sns
%matplotlib inline






#load the dataset
aviation1 = pd.read_csv("AviationData.csv", encoding='ISO-8859-1',low_memory=False )
aviation1






#check the number of rows and columns in the dataset 
aviation1.shape



#print out the column names
aviation1.columns


#check for the overview of the data
aviation1.info()






#check the statistical summary of the data
aviation1.describe()








aviation1.dtypes


#Ensure the 'Accident.Number' column is of type 'float'
aviation1['Accident.Number']=pd.to_numeric(aviation1['Accident.Number'],errors='coerce')


#check if the datatype of accident number  changed to numeric
aviation1.dtypes





#check number of missing values
aviation1.isnull().sum()





#Replace missing values in Location,Country,Make,Model and amateur built with unknown
aviation1['Location']=aviation1['Location'].fillna('unknown')
aviation1['Country']=aviation1['Country'].fillna('unknown')
aviation1['Make']=aviation1['Make'].fillna('unknown')
aviation1['Model']=aviation1['Model'].fillna('unknown')
aviation1['Amateur.Built']=aviation1['Amateur.Built'].fillna('unknown')
aviation1['Weather.Condition']=aviation1['Weather.Condition'].fillna('unknown')
aviation1['Engine.Type']=aviation1['Engine.Type'].fillna('unknown')
aviation1['Report.Status']=aviation1['Report.Status'].fillna('unknown')
aviation1['Purpose.of.flight']=aviation1['Purpose.of.flight'].fillna('unknown')
aviation1['Broad.phase.of.flight']=aviation1['Broad.phase.of.flight'].fillna('unknown')

#check if  the missing values have been replaced 
aviation1.isna().sum()





#Drop the columns
aviation1.drop('FAR.Description',axis=1,inplace=True)
aviation1.drop('Schedule',axis=1,inplace=True)
aviation1.drop('Event.Id',axis=1,inplace=True)
aviation1.drop('Registration.Number',axis=1,inplace=True)
aviation1.drop('Air.carrier',axis=1,inplace=True)
aviation1.drop('Airport.Code',axis=1,inplace=True)
aviation1.drop('Airport.Name',axis=1,inplace=True)
aviation1.isna().sum()



#handle missing values in publication date,Aircraft.Category,Injury.Severity,Aircraft.Damage,Longitude and Latitude by dropping the rows with missing values
aviation1.dropna(subset=['Publication.Date'],inplace=True)
aviation1.dropna(subset=['Aircraft.Category'],inplace=True)
aviation1.dropna(subset=['Injury.Severity'],inplace=True)
aviation1.dropna(subset=['Aircraft.damage'],inplace=True)
aviation1.dropna(subset=['Longitude'],inplace=True)
aviation1.dropna(subset=['Latitude'],inplace=True)
aviation1.isnull().sum()





aviation1.dropna(subset=['Total.Uninjured'],inplace=True)
aviation1.dropna(subset=['Total.Minor.Injuries'],inplace=True)
aviation1.dropna(subset=['Total.Serious.Injuries'],inplace=True)
aviation1.dropna(subset=['Total.Fatal.Injuries'],inplace=True)
aviation1.isnull().sum()





#Replace missing values in number of engines with mode
mode = aviation1['Number.of.Engines'].mode()
aviation1['Number.of.Engines']=aviation1['Number.of.Engines'].fillna('mode')
aviation1.isnull().sum()








duplicates= aviation1.duplicated()
print(len(duplicates))
duplicates








aviation1['injuries_&_fatalities'] = aviation1['Total.Fatal.Injuries']+aviation1['Total.Serious.Injuries']+aviation1['Total.Minor.Injuries']
aviation1.columns








#Create a bar chart
plt.figure(figsize=(20,15))
#sort values in ascending order and take only the top 10
aviation1['Aircraft.Category'].str.upper().value_counts().sort_values(ascending=False)[:10].plot(kind='bar', color='Red')
plt.xticks(rotation=90)
#Add labels
plt.xlabel('Aircraft.Category')
plt.ylabel("Count of Accidents")
plt.title("Top 10 Aircraft Categories involved in accidents")
y=aviation1['Aircraft.Category'].str.upper().value_counts().sort_values(ascending=False)[:10]
plt.show()








# Count of Accidents as per Countries
accidents = aviation1['Country'].groupby(aviation1['Country']).count()
accidents


# Plot Country using seaborn
fig = plt.figure(figsize=(20,15))
#create a list of countries with accidents that are more than 50
accidents_Count = accidents[aviation1['Country'].groupby(aviation1['Country']).count() > 50]
accidents_Count_df = pd.DataFrame({'Country':accidents_Count.index,'Count':accidents_Count.values})
sns.barplot(x=accidents_Count_df['Country'],y=accidents_Count_df['Count'],data=aviation1,palette='Blues_d')
plt.xticks(rotation=90)
#Add labels
plt.xlabel("Country", size=15)
plt.ylabel("Count of Accidents", size=15)
plt.title("distribution of accidents by Countries", size=20)
plt.show()








#Create a bar chart
plt.figure(figsize=(20,15))
#sort values in ascending order and take only the top 10
aviation1['Make'].str.upper().value_counts().sort_values(ascending=False)[:10].plot(kind='bar', color='Red')
plt.xticks(rotation=90)
#Add labels
plt.xlabel("Make")
plt.ylabel("Count of Accidents")
plt.title("Top 10 Notorious Companies in the United States")
y=aviation1['Make'].str.upper().value_counts().sort_values(ascending=False)[:10]
plt.show()









#check unique values in models
aviation1['Model'].unique()


#Create a bar chart
plt.figure(figsize=(20,15))
#sort values in ascending order and take only the top 10
aviation1['Model'].str.upper().value_counts().sort_values(ascending=False)[:10].plot(kind='bar', color='Red')
plt.xticks(rotation=90)
#Add labels
plt.xlabel("Model")
plt.ylabel("Count of Accidents")
plt.title("Top 10 Models involved in the accidents")
y=aviation1['Model'].str.upper().value_counts().sort_values(ascending=False)[:10]
plt.show()









#Create a graph using seaborn
plt.figure(figsize=(20,15))
splot = sns.countplot(data=aviation1, x='Weather.Condition', edgecolor=(0,0,0), linewidth=1, palette='Reds')

#Show label
plt.xlabel("Weather.Condition")
plt.ylabel("Number of Occurrences")
plt.title("What was the weather when Accident took place?")
plt.show()








aviation1.columns


aviation1['Injury.Severity'].unique()


# Group by 'Engine.Type' and 'Injury.Severity' and count occurrences
grouped_data = aviation1.groupby(['Engine.Type', 'Injury.Severity']).size().reset_index(name='Count')

# Unstack the grouped data to get the desired format
unstacked_data = grouped_data.pivot(index='Engine.Type', columns='Injury.Severity', values='Count').fillna(0)

print(unstacked_data)

# Visualize the relationship using a bar plot
unstacked_data.plot(kind='bar', figsize=(12, 8), stacked=True, colormap='viridis')

# Add labels
plt.title('Injury Severity by Engine Type')
plt.xlabel('Engine Type')
plt.ylabel('Count of Injuries')
plt.legend(title='Injury Severity')

# Show the plot
plt.show()








# Group by 'Aircraft.damage' and calculate the sum of 'Total.Fatal.Injuries'
damage_injuries = aviation1.groupby('Aircraft.damage')['Total.Fatal.Injuries'].sum().reset_index()

# Ensure the 'Aircraft.damage' column is of type 'object' (string)
aviation1['Aircraft.damage'] = aviation1['Aircraft.damage'].astype(str)

# Ensure the 'Total.Fatal.Injuries' column is of type 'int'
aviation1['Total.Fatal.Injuries'] = aviation1['Total.Fatal.Injuries'].astype(int)


# Visualize the relationship using a bar plot
plt.figure(figsize=(10, 6))
sns.barplot(data=damage_injuries, x='Aircraft.damage', y='Total.Fatal.Injuries', palette='viridis')
# Add labels
plt.title('Total Fatal Injuries by Aircraft Damage')
plt.xlabel('Aircraft Damage')
plt.ylabel('Total Fatal Injuries')

# Show the plot
plt.show()










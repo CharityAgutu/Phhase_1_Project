{
 "cells": [
  {
   "cell_type": "markdown",
   "id": "c6f1a214-ffcf-4f88-a7a2-c2743d4eb50f",
   "metadata": {},
   "source": [
    "# EXPLORATORY DATA ANALYSIS OF AVIATION ACCIDENTS\n",
    "\n",
    "## INTRODUCTION\n",
    "The company is interested in purchasing and operating airplanes for commercial and private enterprises, but do not know anything about the potential risks of aircraft. Determine which aircraft are the lowest risk for the company to start this new business endeavor then translate your findings into actionable insights that the head of the new aviation division can use to help decide which aircraft to purchase.\n",
    "\n",
    "## Table of Contents\n",
    "- [Introduction](#OBJECTIVES)\n",
    "- [.IMPORT LIBRARIES AND PACKAGES](#import-Libraries-and-packages)\n",
    "- [DATA  EXPLORATION](#DATA-EXPLORATION)\n",
    "- [ DATA CLEANING](#DATA-CLEANING)\n",
    "- [EXPLORATORY DATA ANALYSIS](#EXPLORATORY-DATA-ANALYSIS)\n"
   ]
  },
  {
   "cell_type": "markdown",
   "id": "a98e373b-b06b-449d-8ab5-53a9e431857c",
   "metadata": {},
   "source": [
    "EXPLORATORY DATA ANALYSIS OF AVIATION ACCIDENTS"
   ]
  },
  {
   "cell_type": "markdown",
   "id": "1acd3a47-0193-4ba8-8a45-6f9a5c52f159",
   "metadata": {},
   "source": [
    "INTRODUCTION"
   ]
  },
  {
   "cell_type": "markdown",
   "id": "021cdac0-871d-4688-a3cd-a60265cbe80e",
   "metadata": {},
   "source": [
    "The company is  interested in purchasing and operating airplanes for commercial and private enterprises, but do not know\n",
    "anything about the potential risks of aircraft. Determine which aircraft are the lowest risk for the company to start this new business endeavor then translate your findings into actionable insights that the head of the new aviation division can\n",
    "use to help decide which aircraft to purchase."
   ]
  },
  {
   "cell_type": "markdown",
   "id": "0f581a90-d2a0-4e61-9916-50c6a290e425",
   "metadata": {},
   "source": [
    "OBJECTIVES\n",
    "\n",
    "-What are the top 10 companies whose models that are involved in the accidents.\n",
    "-The best  weather condition to operate an airplane amd the ones to avoid .\n",
    "-What are the best engines to be used on an airplane/ What engines were involved in the fatal and non-fatal\n",
    "-How much damage was caused to the aircraft by fatalities "
   ]
  },
  {
   "cell_type": "markdown",
   "id": "a5f37ad3-47f3-4bb9-a1d5-3cbac29fb240",
   "metadata": {},
   "source": [
    "1.IMPORT LIBRARIES AND PACKAGES"
   ]
  },
  {
   "cell_type": "code",
   "execution_count": 1,
   "id": "9e96b84b-489b-43d2-bce5-2543226ba10c",
   "metadata": {},
   "outputs": [],
   "source": [
    "#import necessary Libraries and packages \n",
    "import pandas as pd\n",
    "import numpy as np\n",
    "import matplotlib.pyplot as plt\n",
    "import seaborn as sns\n",
    "%matplotlib inline\n"
   ]
  },
  {
   "cell_type": "markdown",
   "id": "1feaf406-c874-4384-b2af-3d28876e22fe",
   "metadata": {},
   "source": [
    "2.LOAD THE DATASET\n",
    "\n",
    "Load the \"AviationData.csv\"  dataset that we are goinng to use for the dataset"
   ]
  },
  {
   "cell_type": "code",
   "execution_count": 2,
   "id": "2936eac6-9994-4c51-9f16-b92848d28253",
   "metadata": {},
   "outputs": [
    {
     "name": "stderr",
     "output_type": "stream",
     "text": [
      "C:\\Users\\pc\\Documents\\New folder\\New folder\\envs\\learn-env\\lib\\site-packages\\IPython\\core\\interactiveshell.py:3145: DtypeWarning: Columns (6,7,28) have mixed types.Specify dtype option on import or set low_memory=False.\n",
      "  has_raised = await self.run_ast_nodes(code_ast.body, cell_name,\n"
     ]
    },
    {
     "data": {
      "text/html": [
       "<div>\n",
       "<style scoped>\n",
       "    .dataframe tbody tr th:only-of-type {\n",
       "        vertical-align: middle;\n",
       "    }\n",
       "\n",
       "    .dataframe tbody tr th {\n",
       "        vertical-align: top;\n",
       "    }\n",
       "\n",
       "    .dataframe thead th {\n",
       "        text-align: right;\n",
       "    }\n",
       "</style>\n",
       "<table border=\"1\" class=\"dataframe\">\n",
       "  <thead>\n",
       "    <tr style=\"text-align: right;\">\n",
       "      <th></th>\n",
       "      <th>Event.Id</th>\n",
       "      <th>Investigation.Type</th>\n",
       "      <th>Accident.Number</th>\n",
       "      <th>Event.Date</th>\n",
       "      <th>Location</th>\n",
       "      <th>Country</th>\n",
       "      <th>Latitude</th>\n",
       "      <th>Longitude</th>\n",
       "      <th>Airport.Code</th>\n",
       "      <th>Airport.Name</th>\n",
       "      <th>...</th>\n",
       "      <th>Purpose.of.flight</th>\n",
       "      <th>Air.carrier</th>\n",
       "      <th>Total.Fatal.Injuries</th>\n",
       "      <th>Total.Serious.Injuries</th>\n",
       "      <th>Total.Minor.Injuries</th>\n",
       "      <th>Total.Uninjured</th>\n",
       "      <th>Weather.Condition</th>\n",
       "      <th>Broad.phase.of.flight</th>\n",
       "      <th>Report.Status</th>\n",
       "      <th>Publication.Date</th>\n",
       "    </tr>\n",
       "  </thead>\n",
       "  <tbody>\n",
       "    <tr>\n",
       "      <th>0</th>\n",
       "      <td>20001218X45444</td>\n",
       "      <td>Accident</td>\n",
       "      <td>SEA87LA080</td>\n",
       "      <td>1948-10-24</td>\n",
       "      <td>MOOSE CREEK, ID</td>\n",
       "      <td>United States</td>\n",
       "      <td>NaN</td>\n",
       "      <td>NaN</td>\n",
       "      <td>NaN</td>\n",
       "      <td>NaN</td>\n",
       "      <td>...</td>\n",
       "      <td>Personal</td>\n",
       "      <td>NaN</td>\n",
       "      <td>2.0</td>\n",
       "      <td>0.0</td>\n",
       "      <td>0.0</td>\n",
       "      <td>0.0</td>\n",
       "      <td>UNK</td>\n",
       "      <td>Cruise</td>\n",
       "      <td>Probable Cause</td>\n",
       "      <td>NaN</td>\n",
       "    </tr>\n",
       "    <tr>\n",
       "      <th>1</th>\n",
       "      <td>20001218X45447</td>\n",
       "      <td>Accident</td>\n",
       "      <td>LAX94LA336</td>\n",
       "      <td>1962-07-19</td>\n",
       "      <td>BRIDGEPORT, CA</td>\n",
       "      <td>United States</td>\n",
       "      <td>NaN</td>\n",
       "      <td>NaN</td>\n",
       "      <td>NaN</td>\n",
       "      <td>NaN</td>\n",
       "      <td>...</td>\n",
       "      <td>Personal</td>\n",
       "      <td>NaN</td>\n",
       "      <td>4.0</td>\n",
       "      <td>0.0</td>\n",
       "      <td>0.0</td>\n",
       "      <td>0.0</td>\n",
       "      <td>UNK</td>\n",
       "      <td>Unknown</td>\n",
       "      <td>Probable Cause</td>\n",
       "      <td>19-09-1996</td>\n",
       "    </tr>\n",
       "    <tr>\n",
       "      <th>2</th>\n",
       "      <td>20061025X01555</td>\n",
       "      <td>Accident</td>\n",
       "      <td>NYC07LA005</td>\n",
       "      <td>1974-08-30</td>\n",
       "      <td>Saltville, VA</td>\n",
       "      <td>United States</td>\n",
       "      <td>36.9222</td>\n",
       "      <td>-81.8781</td>\n",
       "      <td>NaN</td>\n",
       "      <td>NaN</td>\n",
       "      <td>...</td>\n",
       "      <td>Personal</td>\n",
       "      <td>NaN</td>\n",
       "      <td>3.0</td>\n",
       "      <td>NaN</td>\n",
       "      <td>NaN</td>\n",
       "      <td>NaN</td>\n",
       "      <td>IMC</td>\n",
       "      <td>Cruise</td>\n",
       "      <td>Probable Cause</td>\n",
       "      <td>26-02-2007</td>\n",
       "    </tr>\n",
       "    <tr>\n",
       "      <th>3</th>\n",
       "      <td>20001218X45448</td>\n",
       "      <td>Accident</td>\n",
       "      <td>LAX96LA321</td>\n",
       "      <td>1977-06-19</td>\n",
       "      <td>EUREKA, CA</td>\n",
       "      <td>United States</td>\n",
       "      <td>NaN</td>\n",
       "      <td>NaN</td>\n",
       "      <td>NaN</td>\n",
       "      <td>NaN</td>\n",
       "      <td>...</td>\n",
       "      <td>Personal</td>\n",
       "      <td>NaN</td>\n",
       "      <td>2.0</td>\n",
       "      <td>0.0</td>\n",
       "      <td>0.0</td>\n",
       "      <td>0.0</td>\n",
       "      <td>IMC</td>\n",
       "      <td>Cruise</td>\n",
       "      <td>Probable Cause</td>\n",
       "      <td>12-09-2000</td>\n",
       "    </tr>\n",
       "    <tr>\n",
       "      <th>4</th>\n",
       "      <td>20041105X01764</td>\n",
       "      <td>Accident</td>\n",
       "      <td>CHI79FA064</td>\n",
       "      <td>1979-08-02</td>\n",
       "      <td>Canton, OH</td>\n",
       "      <td>United States</td>\n",
       "      <td>NaN</td>\n",
       "      <td>NaN</td>\n",
       "      <td>NaN</td>\n",
       "      <td>NaN</td>\n",
       "      <td>...</td>\n",
       "      <td>Personal</td>\n",
       "      <td>NaN</td>\n",
       "      <td>1.0</td>\n",
       "      <td>2.0</td>\n",
       "      <td>NaN</td>\n",
       "      <td>0.0</td>\n",
       "      <td>VMC</td>\n",
       "      <td>Approach</td>\n",
       "      <td>Probable Cause</td>\n",
       "      <td>16-04-1980</td>\n",
       "    </tr>\n",
       "    <tr>\n",
       "      <th>...</th>\n",
       "      <td>...</td>\n",
       "      <td>...</td>\n",
       "      <td>...</td>\n",
       "      <td>...</td>\n",
       "      <td>...</td>\n",
       "      <td>...</td>\n",
       "      <td>...</td>\n",
       "      <td>...</td>\n",
       "      <td>...</td>\n",
       "      <td>...</td>\n",
       "      <td>...</td>\n",
       "      <td>...</td>\n",
       "      <td>...</td>\n",
       "      <td>...</td>\n",
       "      <td>...</td>\n",
       "      <td>...</td>\n",
       "      <td>...</td>\n",
       "      <td>...</td>\n",
       "      <td>...</td>\n",
       "      <td>...</td>\n",
       "      <td>...</td>\n",
       "    </tr>\n",
       "    <tr>\n",
       "      <th>88884</th>\n",
       "      <td>20221227106491</td>\n",
       "      <td>Accident</td>\n",
       "      <td>ERA23LA093</td>\n",
       "      <td>2022-12-26</td>\n",
       "      <td>Annapolis, MD</td>\n",
       "      <td>United States</td>\n",
       "      <td>NaN</td>\n",
       "      <td>NaN</td>\n",
       "      <td>NaN</td>\n",
       "      <td>NaN</td>\n",
       "      <td>...</td>\n",
       "      <td>Personal</td>\n",
       "      <td>NaN</td>\n",
       "      <td>0.0</td>\n",
       "      <td>1.0</td>\n",
       "      <td>0.0</td>\n",
       "      <td>0.0</td>\n",
       "      <td>NaN</td>\n",
       "      <td>NaN</td>\n",
       "      <td>NaN</td>\n",
       "      <td>29-12-2022</td>\n",
       "    </tr>\n",
       "    <tr>\n",
       "      <th>88885</th>\n",
       "      <td>20221227106494</td>\n",
       "      <td>Accident</td>\n",
       "      <td>ERA23LA095</td>\n",
       "      <td>2022-12-26</td>\n",
       "      <td>Hampton, NH</td>\n",
       "      <td>United States</td>\n",
       "      <td>NaN</td>\n",
       "      <td>NaN</td>\n",
       "      <td>NaN</td>\n",
       "      <td>NaN</td>\n",
       "      <td>...</td>\n",
       "      <td>NaN</td>\n",
       "      <td>NaN</td>\n",
       "      <td>0.0</td>\n",
       "      <td>0.0</td>\n",
       "      <td>0.0</td>\n",
       "      <td>0.0</td>\n",
       "      <td>NaN</td>\n",
       "      <td>NaN</td>\n",
       "      <td>NaN</td>\n",
       "      <td>NaN</td>\n",
       "    </tr>\n",
       "    <tr>\n",
       "      <th>88886</th>\n",
       "      <td>20221227106497</td>\n",
       "      <td>Accident</td>\n",
       "      <td>WPR23LA075</td>\n",
       "      <td>2022-12-26</td>\n",
       "      <td>Payson, AZ</td>\n",
       "      <td>United States</td>\n",
       "      <td>341525N</td>\n",
       "      <td>1112021W</td>\n",
       "      <td>PAN</td>\n",
       "      <td>PAYSON</td>\n",
       "      <td>...</td>\n",
       "      <td>Personal</td>\n",
       "      <td>NaN</td>\n",
       "      <td>0.0</td>\n",
       "      <td>0.0</td>\n",
       "      <td>0.0</td>\n",
       "      <td>1.0</td>\n",
       "      <td>VMC</td>\n",
       "      <td>NaN</td>\n",
       "      <td>NaN</td>\n",
       "      <td>27-12-2022</td>\n",
       "    </tr>\n",
       "    <tr>\n",
       "      <th>88887</th>\n",
       "      <td>20221227106498</td>\n",
       "      <td>Accident</td>\n",
       "      <td>WPR23LA076</td>\n",
       "      <td>2022-12-26</td>\n",
       "      <td>Morgan, UT</td>\n",
       "      <td>United States</td>\n",
       "      <td>NaN</td>\n",
       "      <td>NaN</td>\n",
       "      <td>NaN</td>\n",
       "      <td>NaN</td>\n",
       "      <td>...</td>\n",
       "      <td>Personal</td>\n",
       "      <td>MC CESSNA 210N LLC</td>\n",
       "      <td>0.0</td>\n",
       "      <td>0.0</td>\n",
       "      <td>0.0</td>\n",
       "      <td>0.0</td>\n",
       "      <td>NaN</td>\n",
       "      <td>NaN</td>\n",
       "      <td>NaN</td>\n",
       "      <td>NaN</td>\n",
       "    </tr>\n",
       "    <tr>\n",
       "      <th>88888</th>\n",
       "      <td>20221230106513</td>\n",
       "      <td>Accident</td>\n",
       "      <td>ERA23LA097</td>\n",
       "      <td>2022-12-29</td>\n",
       "      <td>Athens, GA</td>\n",
       "      <td>United States</td>\n",
       "      <td>NaN</td>\n",
       "      <td>NaN</td>\n",
       "      <td>NaN</td>\n",
       "      <td>NaN</td>\n",
       "      <td>...</td>\n",
       "      <td>Personal</td>\n",
       "      <td>NaN</td>\n",
       "      <td>0.0</td>\n",
       "      <td>1.0</td>\n",
       "      <td>0.0</td>\n",
       "      <td>1.0</td>\n",
       "      <td>NaN</td>\n",
       "      <td>NaN</td>\n",
       "      <td>NaN</td>\n",
       "      <td>30-12-2022</td>\n",
       "    </tr>\n",
       "  </tbody>\n",
       "</table>\n",
       "<p>88889 rows × 31 columns</p>\n",
       "</div>"
      ],
      "text/plain": [
       "             Event.Id Investigation.Type Accident.Number  Event.Date  \\\n",
       "0      20001218X45444           Accident      SEA87LA080  1948-10-24   \n",
       "1      20001218X45447           Accident      LAX94LA336  1962-07-19   \n",
       "2      20061025X01555           Accident      NYC07LA005  1974-08-30   \n",
       "3      20001218X45448           Accident      LAX96LA321  1977-06-19   \n",
       "4      20041105X01764           Accident      CHI79FA064  1979-08-02   \n",
       "...               ...                ...             ...         ...   \n",
       "88884  20221227106491           Accident      ERA23LA093  2022-12-26   \n",
       "88885  20221227106494           Accident      ERA23LA095  2022-12-26   \n",
       "88886  20221227106497           Accident      WPR23LA075  2022-12-26   \n",
       "88887  20221227106498           Accident      WPR23LA076  2022-12-26   \n",
       "88888  20221230106513           Accident      ERA23LA097  2022-12-29   \n",
       "\n",
       "              Location        Country Latitude Longitude Airport.Code  \\\n",
       "0      MOOSE CREEK, ID  United States      NaN       NaN          NaN   \n",
       "1       BRIDGEPORT, CA  United States      NaN       NaN          NaN   \n",
       "2        Saltville, VA  United States  36.9222  -81.8781          NaN   \n",
       "3           EUREKA, CA  United States      NaN       NaN          NaN   \n",
       "4           Canton, OH  United States      NaN       NaN          NaN   \n",
       "...                ...            ...      ...       ...          ...   \n",
       "88884    Annapolis, MD  United States      NaN       NaN          NaN   \n",
       "88885      Hampton, NH  United States      NaN       NaN          NaN   \n",
       "88886       Payson, AZ  United States  341525N  1112021W          PAN   \n",
       "88887       Morgan, UT  United States      NaN       NaN          NaN   \n",
       "88888       Athens, GA  United States      NaN       NaN          NaN   \n",
       "\n",
       "      Airport.Name  ... Purpose.of.flight         Air.carrier  \\\n",
       "0              NaN  ...          Personal                 NaN   \n",
       "1              NaN  ...          Personal                 NaN   \n",
       "2              NaN  ...          Personal                 NaN   \n",
       "3              NaN  ...          Personal                 NaN   \n",
       "4              NaN  ...          Personal                 NaN   \n",
       "...            ...  ...               ...                 ...   \n",
       "88884          NaN  ...          Personal                 NaN   \n",
       "88885          NaN  ...               NaN                 NaN   \n",
       "88886       PAYSON  ...          Personal                 NaN   \n",
       "88887          NaN  ...          Personal  MC CESSNA 210N LLC   \n",
       "88888          NaN  ...          Personal                 NaN   \n",
       "\n",
       "      Total.Fatal.Injuries Total.Serious.Injuries Total.Minor.Injuries  \\\n",
       "0                      2.0                    0.0                  0.0   \n",
       "1                      4.0                    0.0                  0.0   \n",
       "2                      3.0                    NaN                  NaN   \n",
       "3                      2.0                    0.0                  0.0   \n",
       "4                      1.0                    2.0                  NaN   \n",
       "...                    ...                    ...                  ...   \n",
       "88884                  0.0                    1.0                  0.0   \n",
       "88885                  0.0                    0.0                  0.0   \n",
       "88886                  0.0                    0.0                  0.0   \n",
       "88887                  0.0                    0.0                  0.0   \n",
       "88888                  0.0                    1.0                  0.0   \n",
       "\n",
       "      Total.Uninjured Weather.Condition  Broad.phase.of.flight  \\\n",
       "0                 0.0               UNK                 Cruise   \n",
       "1                 0.0               UNK                Unknown   \n",
       "2                 NaN               IMC                 Cruise   \n",
       "3                 0.0               IMC                 Cruise   \n",
       "4                 0.0               VMC               Approach   \n",
       "...               ...               ...                    ...   \n",
       "88884             0.0               NaN                    NaN   \n",
       "88885             0.0               NaN                    NaN   \n",
       "88886             1.0               VMC                    NaN   \n",
       "88887             0.0               NaN                    NaN   \n",
       "88888             1.0               NaN                    NaN   \n",
       "\n",
       "        Report.Status Publication.Date  \n",
       "0      Probable Cause              NaN  \n",
       "1      Probable Cause       19-09-1996  \n",
       "2      Probable Cause       26-02-2007  \n",
       "3      Probable Cause       12-09-2000  \n",
       "4      Probable Cause       16-04-1980  \n",
       "...               ...              ...  \n",
       "88884             NaN       29-12-2022  \n",
       "88885             NaN              NaN  \n",
       "88886             NaN       27-12-2022  \n",
       "88887             NaN              NaN  \n",
       "88888             NaN       30-12-2022  \n",
       "\n",
       "[88889 rows x 31 columns]"
      ]
     },
     "execution_count": 2,
     "metadata": {},
     "output_type": "execute_result"
    }
   ],
   "source": [
    "#load the dataset\n",
    "aviation1 = pd.read_csv(\"AviationData.csv\", encoding='ISO-8859-1')\n",
    "aviation1\n"
   ]
  },
  {
   "cell_type": "markdown",
   "id": "c49f19f5-a397-4a3f-b328-27aa43b8d530",
   "metadata": {},
   "source": [
    "3.DATA  EXPLORATION\n",
    "\n",
    "We will explore our dataset and know more about it eg.the columns,the data types ,the number of rows"
   ]
  },
  {
   "cell_type": "code",
   "execution_count": 3,
   "id": "1088de67-7197-4ac6-81c5-390dafbcf1d0",
   "metadata": {},
   "outputs": [
    {
     "data": {
      "text/plain": [
       "(88889, 31)"
      ]
     },
     "execution_count": 3,
     "metadata": {},
     "output_type": "execute_result"
    }
   ],
   "source": [
    "#check the number of rows and columns in the dataset \n",
    "aviation1.shape\n"
   ]
  },
  {
   "cell_type": "code",
   "execution_count": 4,
   "id": "355adc10-17cf-4de0-9ac5-215323f1f35c",
   "metadata": {},
   "outputs": [
    {
     "data": {
      "text/plain": [
       "Index(['Event.Id', 'Investigation.Type', 'Accident.Number', 'Event.Date',\n",
       "       'Location', 'Country', 'Latitude', 'Longitude', 'Airport.Code',\n",
       "       'Airport.Name', 'Injury.Severity', 'Aircraft.damage',\n",
       "       'Aircraft.Category', 'Registration.Number', 'Make', 'Model',\n",
       "       'Amateur.Built', 'Number.of.Engines', 'Engine.Type', 'FAR.Description',\n",
       "       'Schedule', 'Purpose.of.flight', 'Air.carrier', 'Total.Fatal.Injuries',\n",
       "       'Total.Serious.Injuries', 'Total.Minor.Injuries', 'Total.Uninjured',\n",
       "       'Weather.Condition', 'Broad.phase.of.flight', 'Report.Status',\n",
       "       'Publication.Date'],\n",
       "      dtype='object')"
      ]
     },
     "execution_count": 4,
     "metadata": {},
     "output_type": "execute_result"
    }
   ],
   "source": [
    "#print out the column names\n",
    "aviation1.columns"
   ]
  },
  {
   "cell_type": "code",
   "execution_count": 5,
   "id": "4226b30c-0544-4d0d-aee4-9fe6661854dc",
   "metadata": {},
   "outputs": [
    {
     "name": "stdout",
     "output_type": "stream",
     "text": [
      "<class 'pandas.core.frame.DataFrame'>\n",
      "RangeIndex: 88889 entries, 0 to 88888\n",
      "Data columns (total 31 columns):\n",
      " #   Column                  Non-Null Count  Dtype  \n",
      "---  ------                  --------------  -----  \n",
      " 0   Event.Id                88889 non-null  object \n",
      " 1   Investigation.Type      88889 non-null  object \n",
      " 2   Accident.Number         88889 non-null  object \n",
      " 3   Event.Date              88889 non-null  object \n",
      " 4   Location                88837 non-null  object \n",
      " 5   Country                 88663 non-null  object \n",
      " 6   Latitude                34382 non-null  object \n",
      " 7   Longitude               34373 non-null  object \n",
      " 8   Airport.Code            50249 non-null  object \n",
      " 9   Airport.Name            52790 non-null  object \n",
      " 10  Injury.Severity         87889 non-null  object \n",
      " 11  Aircraft.damage         85695 non-null  object \n",
      " 12  Aircraft.Category       32287 non-null  object \n",
      " 13  Registration.Number     87572 non-null  object \n",
      " 14  Make                    88826 non-null  object \n",
      " 15  Model                   88797 non-null  object \n",
      " 16  Amateur.Built           88787 non-null  object \n",
      " 17  Number.of.Engines       82805 non-null  float64\n",
      " 18  Engine.Type             81812 non-null  object \n",
      " 19  FAR.Description         32023 non-null  object \n",
      " 20  Schedule                12582 non-null  object \n",
      " 21  Purpose.of.flight       82697 non-null  object \n",
      " 22  Air.carrier             16648 non-null  object \n",
      " 23  Total.Fatal.Injuries    77488 non-null  float64\n",
      " 24  Total.Serious.Injuries  76379 non-null  float64\n",
      " 25  Total.Minor.Injuries    76956 non-null  float64\n",
      " 26  Total.Uninjured         82977 non-null  float64\n",
      " 27  Weather.Condition       84397 non-null  object \n",
      " 28  Broad.phase.of.flight   61724 non-null  object \n",
      " 29  Report.Status           82508 non-null  object \n",
      " 30  Publication.Date        75118 non-null  object \n",
      "dtypes: float64(5), object(26)\n",
      "memory usage: 21.0+ MB\n"
     ]
    }
   ],
   "source": [
    "#check for the overview of the data\n",
    "aviation1.info()\n"
   ]
  },
  {
   "cell_type": "markdown",
   "id": "bb48042f-dbff-4408-b989-0a6aa64551b4",
   "metadata": {},
   "source": [
    "From this we notice that the datatype of the  columns "
   ]
  },
  {
   "cell_type": "code",
   "execution_count": 6,
   "id": "7a78946b-57eb-4032-ab02-b83bb20e53df",
   "metadata": {},
   "outputs": [
    {
     "data": {
      "text/html": [
       "<div>\n",
       "<style scoped>\n",
       "    .dataframe tbody tr th:only-of-type {\n",
       "        vertical-align: middle;\n",
       "    }\n",
       "\n",
       "    .dataframe tbody tr th {\n",
       "        vertical-align: top;\n",
       "    }\n",
       "\n",
       "    .dataframe thead th {\n",
       "        text-align: right;\n",
       "    }\n",
       "</style>\n",
       "<table border=\"1\" class=\"dataframe\">\n",
       "  <thead>\n",
       "    <tr style=\"text-align: right;\">\n",
       "      <th></th>\n",
       "      <th>Number.of.Engines</th>\n",
       "      <th>Total.Fatal.Injuries</th>\n",
       "      <th>Total.Serious.Injuries</th>\n",
       "      <th>Total.Minor.Injuries</th>\n",
       "      <th>Total.Uninjured</th>\n",
       "    </tr>\n",
       "  </thead>\n",
       "  <tbody>\n",
       "    <tr>\n",
       "      <th>count</th>\n",
       "      <td>82805.000000</td>\n",
       "      <td>77488.000000</td>\n",
       "      <td>76379.000000</td>\n",
       "      <td>76956.000000</td>\n",
       "      <td>82977.000000</td>\n",
       "    </tr>\n",
       "    <tr>\n",
       "      <th>mean</th>\n",
       "      <td>1.146585</td>\n",
       "      <td>0.647855</td>\n",
       "      <td>0.279881</td>\n",
       "      <td>0.357061</td>\n",
       "      <td>5.325440</td>\n",
       "    </tr>\n",
       "    <tr>\n",
       "      <th>std</th>\n",
       "      <td>0.446510</td>\n",
       "      <td>5.485960</td>\n",
       "      <td>1.544084</td>\n",
       "      <td>2.235625</td>\n",
       "      <td>27.913634</td>\n",
       "    </tr>\n",
       "    <tr>\n",
       "      <th>min</th>\n",
       "      <td>0.000000</td>\n",
       "      <td>0.000000</td>\n",
       "      <td>0.000000</td>\n",
       "      <td>0.000000</td>\n",
       "      <td>0.000000</td>\n",
       "    </tr>\n",
       "    <tr>\n",
       "      <th>25%</th>\n",
       "      <td>1.000000</td>\n",
       "      <td>0.000000</td>\n",
       "      <td>0.000000</td>\n",
       "      <td>0.000000</td>\n",
       "      <td>0.000000</td>\n",
       "    </tr>\n",
       "    <tr>\n",
       "      <th>50%</th>\n",
       "      <td>1.000000</td>\n",
       "      <td>0.000000</td>\n",
       "      <td>0.000000</td>\n",
       "      <td>0.000000</td>\n",
       "      <td>1.000000</td>\n",
       "    </tr>\n",
       "    <tr>\n",
       "      <th>75%</th>\n",
       "      <td>1.000000</td>\n",
       "      <td>0.000000</td>\n",
       "      <td>0.000000</td>\n",
       "      <td>0.000000</td>\n",
       "      <td>2.000000</td>\n",
       "    </tr>\n",
       "    <tr>\n",
       "      <th>max</th>\n",
       "      <td>8.000000</td>\n",
       "      <td>349.000000</td>\n",
       "      <td>161.000000</td>\n",
       "      <td>380.000000</td>\n",
       "      <td>699.000000</td>\n",
       "    </tr>\n",
       "  </tbody>\n",
       "</table>\n",
       "</div>"
      ],
      "text/plain": [
       "       Number.of.Engines  Total.Fatal.Injuries  Total.Serious.Injuries  \\\n",
       "count       82805.000000          77488.000000            76379.000000   \n",
       "mean            1.146585              0.647855                0.279881   \n",
       "std             0.446510              5.485960                1.544084   \n",
       "min             0.000000              0.000000                0.000000   \n",
       "25%             1.000000              0.000000                0.000000   \n",
       "50%             1.000000              0.000000                0.000000   \n",
       "75%             1.000000              0.000000                0.000000   \n",
       "max             8.000000            349.000000              161.000000   \n",
       "\n",
       "       Total.Minor.Injuries  Total.Uninjured  \n",
       "count          76956.000000     82977.000000  \n",
       "mean               0.357061         5.325440  \n",
       "std                2.235625        27.913634  \n",
       "min                0.000000         0.000000  \n",
       "25%                0.000000         0.000000  \n",
       "50%                0.000000         1.000000  \n",
       "75%                0.000000         2.000000  \n",
       "max              380.000000       699.000000  "
      ]
     },
     "execution_count": 6,
     "metadata": {},
     "output_type": "execute_result"
    }
   ],
   "source": [
    "#check the statistical summary of the data\n",
    "aviation1.describe()"
   ]
  },
  {
   "cell_type": "markdown",
   "id": "91a91e5a-6c53-48f7-a60e-f27b3eaf856a",
   "metadata": {},
   "source": [
    "We notice from the output above the mean,minimum and maximum values of the columns"
   ]
  },
  {
   "cell_type": "markdown",
   "id": "0c0359fb-c5f6-4f2f-a660-b030641b43a3",
   "metadata": {},
   "source": [
    "4. DATA CLEANING\n",
    "\n",
    "In this stage we will handle missing values ,identify any duplicated data,check the datatypes and change if necessary\n"
   ]
  },
  {
   "cell_type": "code",
   "execution_count": 7,
   "id": "d2e08952-b987-4c00-96a8-dbf9f4814dbd",
   "metadata": {},
   "outputs": [
    {
     "data": {
      "text/plain": [
       "Event.Id                   object\n",
       "Investigation.Type         object\n",
       "Accident.Number            object\n",
       "Event.Date                 object\n",
       "Location                   object\n",
       "Country                    object\n",
       "Latitude                   object\n",
       "Longitude                  object\n",
       "Airport.Code               object\n",
       "Airport.Name               object\n",
       "Injury.Severity            object\n",
       "Aircraft.damage            object\n",
       "Aircraft.Category          object\n",
       "Registration.Number        object\n",
       "Make                       object\n",
       "Model                      object\n",
       "Amateur.Built              object\n",
       "Number.of.Engines         float64\n",
       "Engine.Type                object\n",
       "FAR.Description            object\n",
       "Schedule                   object\n",
       "Purpose.of.flight          object\n",
       "Air.carrier                object\n",
       "Total.Fatal.Injuries      float64\n",
       "Total.Serious.Injuries    float64\n",
       "Total.Minor.Injuries      float64\n",
       "Total.Uninjured           float64\n",
       "Weather.Condition          object\n",
       "Broad.phase.of.flight      object\n",
       "Report.Status              object\n",
       "Publication.Date           object\n",
       "dtype: object"
      ]
     },
     "execution_count": 7,
     "metadata": {},
     "output_type": "execute_result"
    }
   ],
   "source": [
    "aviation1.dtypes"
   ]
  },
  {
   "cell_type": "code",
   "execution_count": 8,
   "id": "0e6923f2-70ff-482d-a186-81af9353008e",
   "metadata": {
    "scrolled": true
   },
   "outputs": [],
   "source": [
    "#Ensure the 'Accident.Number' column is of type 'float'\n",
    "aviation1['Accident.Number']=pd.to_numeric(aviation1['Accident.Number'],errors='coerce')"
   ]
  },
  {
   "cell_type": "code",
   "execution_count": 9,
   "id": "bfe0c317-c5bb-4083-94c2-b86091710561",
   "metadata": {
    "scrolled": true
   },
   "outputs": [
    {
     "data": {
      "text/plain": [
       "Event.Id                   object\n",
       "Investigation.Type         object\n",
       "Accident.Number           float64\n",
       "Event.Date                 object\n",
       "Location                   object\n",
       "Country                    object\n",
       "Latitude                   object\n",
       "Longitude                  object\n",
       "Airport.Code               object\n",
       "Airport.Name               object\n",
       "Injury.Severity            object\n",
       "Aircraft.damage            object\n",
       "Aircraft.Category          object\n",
       "Registration.Number        object\n",
       "Make                       object\n",
       "Model                      object\n",
       "Amateur.Built              object\n",
       "Number.of.Engines         float64\n",
       "Engine.Type                object\n",
       "FAR.Description            object\n",
       "Schedule                   object\n",
       "Purpose.of.flight          object\n",
       "Air.carrier                object\n",
       "Total.Fatal.Injuries      float64\n",
       "Total.Serious.Injuries    float64\n",
       "Total.Minor.Injuries      float64\n",
       "Total.Uninjured           float64\n",
       "Weather.Condition          object\n",
       "Broad.phase.of.flight      object\n",
       "Report.Status              object\n",
       "Publication.Date           object\n",
       "dtype: object"
      ]
     },
     "execution_count": 9,
     "metadata": {},
     "output_type": "execute_result"
    }
   ],
   "source": [
    "#check if the datatype of accident number  changed to numeric\n",
    "aviation1.dtypes"
   ]
  },
  {
   "cell_type": "markdown",
   "id": "fd25763a-1c01-49fa-90b2-6899ad101417",
   "metadata": {},
   "source": [
    "HANDLE MISSING VALUES\n",
    "\n",
    "We shall handle missing values so that we can visualize the data to create better insights"
   ]
  },
  {
   "cell_type": "code",
   "execution_count": 10,
   "id": "8ec4f057-805a-4665-8b23-ce2a10104d45",
   "metadata": {},
   "outputs": [
    {
     "data": {
      "text/plain": [
       "Event.Id                      0\n",
       "Investigation.Type            0\n",
       "Accident.Number           88889\n",
       "Event.Date                    0\n",
       "Location                     52\n",
       "Country                     226\n",
       "Latitude                  54507\n",
       "Longitude                 54516\n",
       "Airport.Code              38640\n",
       "Airport.Name              36099\n",
       "Injury.Severity            1000\n",
       "Aircraft.damage            3194\n",
       "Aircraft.Category         56602\n",
       "Registration.Number        1317\n",
       "Make                         63\n",
       "Model                        92\n",
       "Amateur.Built               102\n",
       "Number.of.Engines          6084\n",
       "Engine.Type                7077\n",
       "FAR.Description           56866\n",
       "Schedule                  76307\n",
       "Purpose.of.flight          6192\n",
       "Air.carrier               72241\n",
       "Total.Fatal.Injuries      11401\n",
       "Total.Serious.Injuries    12510\n",
       "Total.Minor.Injuries      11933\n",
       "Total.Uninjured            5912\n",
       "Weather.Condition          4492\n",
       "Broad.phase.of.flight     27165\n",
       "Report.Status              6381\n",
       "Publication.Date          13771\n",
       "dtype: int64"
      ]
     },
     "execution_count": 10,
     "metadata": {},
     "output_type": "execute_result"
    }
   ],
   "source": [
    "#check number of missing values\n",
    "aviation1.isnull().sum()"
   ]
  },
  {
   "cell_type": "markdown",
   "id": "e1d58e69-4980-447e-a366-b2c9ba7b59b8",
   "metadata": {},
   "source": [
    "We will start by handlinng missing values of the  columns with categorical data and replace them with unknown.\n",
    "The columns that have categorical data are Location,Country,Make,Model,Amateur.Built,Engine.Type,weather condition,Repoststatus,purpose.of.flight"
   ]
  },
  {
   "cell_type": "code",
   "execution_count": 11,
   "id": "d91fa43b-4d15-493f-9cfc-9930c78a4daf",
   "metadata": {},
   "outputs": [
    {
     "data": {
      "text/plain": [
       "Event.Id                      0\n",
       "Investigation.Type            0\n",
       "Accident.Number           88889\n",
       "Event.Date                    0\n",
       "Location                      0\n",
       "Country                       0\n",
       "Latitude                  54507\n",
       "Longitude                 54516\n",
       "Airport.Code              38640\n",
       "Airport.Name              36099\n",
       "Injury.Severity            1000\n",
       "Aircraft.damage            3194\n",
       "Aircraft.Category         56602\n",
       "Registration.Number        1317\n",
       "Make                          0\n",
       "Model                         0\n",
       "Amateur.Built                 0\n",
       "Number.of.Engines          6084\n",
       "Engine.Type                   0\n",
       "FAR.Description           56866\n",
       "Schedule                  76307\n",
       "Purpose.of.flight             0\n",
       "Air.carrier               72241\n",
       "Total.Fatal.Injuries      11401\n",
       "Total.Serious.Injuries    12510\n",
       "Total.Minor.Injuries      11933\n",
       "Total.Uninjured            5912\n",
       "Weather.Condition             0\n",
       "Broad.phase.of.flight         0\n",
       "Report.Status                 0\n",
       "Publication.Date          13771\n",
       "dtype: int64"
      ]
     },
     "execution_count": 11,
     "metadata": {},
     "output_type": "execute_result"
    }
   ],
   "source": [
    "#Replace missing values in Location,Country,Make,Model and amateur built with unknown\n",
    "aviation1['Location']=aviation1['Location'].fillna('unknown')\n",
    "aviation1['Country']=aviation1['Country'].fillna('unknown')\n",
    "aviation1['Make']=aviation1['Make'].fillna('unknown')\n",
    "aviation1['Model']=aviation1['Model'].fillna('unknown')\n",
    "aviation1['Amateur.Built']=aviation1['Amateur.Built'].fillna('unknown')\n",
    "aviation1['Weather.Condition']=aviation1['Weather.Condition'].fillna('unknown')\n",
    "aviation1['Engine.Type']=aviation1['Engine.Type'].fillna('unknown')\n",
    "aviation1['Report.Status']=aviation1['Report.Status'].fillna('unknown')\n",
    "aviation1['Purpose.of.flight']=aviation1['Purpose.of.flight'].fillna('unknown')\n",
    "aviation1['Broad.phase.of.flight']=aviation1['Broad.phase.of.flight'].fillna('unknown')\n",
    "\n",
    "#check if  the missing values have been replaced \n",
    "aviation1.isna().sum()"
   ]
  },
  {
   "cell_type": "markdown",
   "id": "5d449911-075e-4b65-92a7-26b1223a5bca",
   "metadata": {},
   "source": [
    "We can drop the columns that are irrelevant to us and have a lot of missing values   like the FAR.Description,Event.Id,schedule,publication date,Registration.Number,air.carrier"
   ]
  },
  {
   "cell_type": "code",
   "execution_count": 12,
   "id": "b4ad1b33-3dfb-4b04-8727-79d5e7911b4d",
   "metadata": {},
   "outputs": [
    {
     "data": {
      "text/plain": [
       "Investigation.Type            0\n",
       "Accident.Number           88889\n",
       "Event.Date                    0\n",
       "Location                      0\n",
       "Country                       0\n",
       "Latitude                  54507\n",
       "Longitude                 54516\n",
       "Injury.Severity            1000\n",
       "Aircraft.damage            3194\n",
       "Aircraft.Category         56602\n",
       "Make                          0\n",
       "Model                         0\n",
       "Amateur.Built                 0\n",
       "Number.of.Engines          6084\n",
       "Engine.Type                   0\n",
       "Purpose.of.flight             0\n",
       "Total.Fatal.Injuries      11401\n",
       "Total.Serious.Injuries    12510\n",
       "Total.Minor.Injuries      11933\n",
       "Total.Uninjured            5912\n",
       "Weather.Condition             0\n",
       "Broad.phase.of.flight         0\n",
       "Report.Status                 0\n",
       "Publication.Date          13771\n",
       "dtype: int64"
      ]
     },
     "execution_count": 12,
     "metadata": {},
     "output_type": "execute_result"
    }
   ],
   "source": [
    "#Drop the columns\n",
    "aviation1.drop('FAR.Description',axis=1,inplace=True)\n",
    "aviation1.drop('Schedule',axis=1,inplace=True)\n",
    "aviation1.drop('Event.Id',axis=1,inplace=True)\n",
    "aviation1.drop('Registration.Number',axis=1,inplace=True)\n",
    "aviation1.drop('Air.carrier',axis=1,inplace=True)\n",
    "aviation1.drop('Airport.Code',axis=1,inplace=True)\n",
    "aviation1.drop('Airport.Name',axis=1,inplace=True)\n",
    "aviation1.isna().sum()\n"
   ]
  },
  {
   "cell_type": "code",
   "execution_count": 13,
   "id": "746b45ab-08f0-4677-a173-50e72f04faea",
   "metadata": {},
   "outputs": [
    {
     "data": {
      "text/plain": [
       "Investigation.Type            0\n",
       "Accident.Number           24625\n",
       "Event.Date                    0\n",
       "Location                      0\n",
       "Country                       0\n",
       "Latitude                      0\n",
       "Longitude                     0\n",
       "Injury.Severity               0\n",
       "Aircraft.damage               0\n",
       "Aircraft.Category             0\n",
       "Make                          0\n",
       "Model                         0\n",
       "Amateur.Built                 0\n",
       "Number.of.Engines          1309\n",
       "Engine.Type                   0\n",
       "Purpose.of.flight             0\n",
       "Total.Fatal.Injuries       3290\n",
       "Total.Serious.Injuries     3192\n",
       "Total.Minor.Injuries       2777\n",
       "Total.Uninjured             750\n",
       "Weather.Condition             0\n",
       "Broad.phase.of.flight         0\n",
       "Report.Status                 0\n",
       "Publication.Date              0\n",
       "dtype: int64"
      ]
     },
     "execution_count": 13,
     "metadata": {},
     "output_type": "execute_result"
    }
   ],
   "source": [
    "#handle missing values in publication date,Aircraft.Category,Injury.Severity,Aircraft.Damage,Longitude and Latitude by dropping the rows with missing values\n",
    "aviation1.dropna(subset=['Publication.Date'],inplace=True)\n",
    "aviation1.dropna(subset=['Aircraft.Category'],inplace=True)\n",
    "aviation1.dropna(subset=['Injury.Severity'],inplace=True)\n",
    "aviation1.dropna(subset=['Aircraft.damage'],inplace=True)\n",
    "aviation1.dropna(subset=['Longitude'],inplace=True)\n",
    "aviation1.dropna(subset=['Latitude'],inplace=True)\n",
    "aviation1.isnull().sum()"
   ]
  },
  {
   "cell_type": "markdown",
   "id": "e920d832-a2d3-455a-9e53-08230cfa0e6a",
   "metadata": {},
   "source": [
    "We will now have to handle missing Values in columns containing Numerical values.Data containing total.Fatal.injuries,serious injuries,Total.Minor.Injuries,Total.uninjured is very sensitive so we would not want to handle the missing values in a way that would show bias or lack of data integrity.we will have to handle missing values by dropping the rows with missing values "
   ]
  },
  {
   "cell_type": "code",
   "execution_count": 14,
   "id": "8a4c4e81-af0e-47e4-a8b2-ec33d4a0db1e",
   "metadata": {},
   "outputs": [
    {
     "data": {
      "text/plain": [
       "Investigation.Type            0\n",
       "Accident.Number           21209\n",
       "Event.Date                    0\n",
       "Location                      0\n",
       "Country                       0\n",
       "Latitude                      0\n",
       "Longitude                     0\n",
       "Injury.Severity               0\n",
       "Aircraft.damage               0\n",
       "Aircraft.Category             0\n",
       "Make                          0\n",
       "Model                         0\n",
       "Amateur.Built                 0\n",
       "Number.of.Engines          1298\n",
       "Engine.Type                   0\n",
       "Purpose.of.flight             0\n",
       "Total.Fatal.Injuries          0\n",
       "Total.Serious.Injuries        0\n",
       "Total.Minor.Injuries          0\n",
       "Total.Uninjured               0\n",
       "Weather.Condition             0\n",
       "Broad.phase.of.flight         0\n",
       "Report.Status                 0\n",
       "Publication.Date              0\n",
       "dtype: int64"
      ]
     },
     "execution_count": 14,
     "metadata": {},
     "output_type": "execute_result"
    }
   ],
   "source": [
    "aviation1.dropna(subset=['Total.Uninjured'],inplace=True)\n",
    "aviation1.dropna(subset=['Total.Minor.Injuries'],inplace=True)\n",
    "aviation1.dropna(subset=['Total.Serious.Injuries'],inplace=True)\n",
    "aviation1.dropna(subset=['Total.Fatal.Injuries'],inplace=True)\n",
    "aviation1.isnull().sum()"
   ]
  },
  {
   "cell_type": "markdown",
   "id": "bf99c116-8fa9-4716-85a1-d42bdfe0448b",
   "metadata": {},
   "source": [
    "For Number of Engines,we will replace the missing values with the mode "
   ]
  },
  {
   "cell_type": "code",
   "execution_count": 15,
   "id": "60bbae04-3035-44bc-809c-678860c7ab73",
   "metadata": {},
   "outputs": [
    {
     "data": {
      "text/plain": [
       "Investigation.Type            0\n",
       "Accident.Number           21209\n",
       "Event.Date                    0\n",
       "Location                      0\n",
       "Country                       0\n",
       "Latitude                      0\n",
       "Longitude                     0\n",
       "Injury.Severity               0\n",
       "Aircraft.damage               0\n",
       "Aircraft.Category             0\n",
       "Make                          0\n",
       "Model                         0\n",
       "Amateur.Built                 0\n",
       "Number.of.Engines             0\n",
       "Engine.Type                   0\n",
       "Purpose.of.flight             0\n",
       "Total.Fatal.Injuries          0\n",
       "Total.Serious.Injuries        0\n",
       "Total.Minor.Injuries          0\n",
       "Total.Uninjured               0\n",
       "Weather.Condition             0\n",
       "Broad.phase.of.flight         0\n",
       "Report.Status                 0\n",
       "Publication.Date              0\n",
       "dtype: int64"
      ]
     },
     "execution_count": 15,
     "metadata": {},
     "output_type": "execute_result"
    }
   ],
   "source": [
    "#Replace missing values in number of engines with mode\n",
    "mode = aviation1['Number.of.Engines'].mode()\n",
    "aviation1['Number.of.Engines']=aviation1['Number.of.Engines'].fillna('mode')\n",
    "aviation1.isnull().sum()"
   ]
  },
  {
   "cell_type": "markdown",
   "id": "b49db409-2274-458d-b754-c31f87c07e49",
   "metadata": {},
   "source": [
    "The above code shows that there are no more missing values."
   ]
  },
  {
   "cell_type": "markdown",
   "id": "3b2b82cc-b7ad-4ef4-b541-f06e8fee4a17",
   "metadata": {},
   "source": [
    "Check for Duplicates"
   ]
  },
  {
   "cell_type": "code",
   "execution_count": 16,
   "id": "eb5bccb1-ca46-45ae-a306-553f96d12cdf",
   "metadata": {},
   "outputs": [
    {
     "name": "stdout",
     "output_type": "stream",
     "text": [
      "21209\n"
     ]
    },
    {
     "data": {
      "text/plain": [
       "50682    False\n",
       "54904    False\n",
       "59584    False\n",
       "61280    False\n",
       "61649    False\n",
       "         ...  \n",
       "88869    False\n",
       "88873    False\n",
       "88876    False\n",
       "88877    False\n",
       "88886    False\n",
       "Length: 21209, dtype: bool"
      ]
     },
     "execution_count": 16,
     "metadata": {},
     "output_type": "execute_result"
    }
   ],
   "source": [
    "duplicates= aviation1.duplicated()\n",
    "print(len(duplicates))\n",
    "duplicates"
   ]
  },
  {
   "cell_type": "markdown",
   "id": "c390c40f-9b90-4c5b-a522-98a8c8bed572",
   "metadata": {},
   "source": [
    "From the above we observe that the dataset has no duplicates"
   ]
  },
  {
   "cell_type": "markdown",
   "id": "3fb0013f-6e07-48ac-a02c-be28f50a525f",
   "metadata": {},
   "source": [
    "NEW COLUMN\n",
    "Here we will create a new column called injuries_&_fatalities that represents the Total.Fatal.Injuries,total serious injuries and total minor injuries"
   ]
  },
  {
   "cell_type": "code",
   "execution_count": 17,
   "id": "59b1cefc-a542-4749-9b19-c16e34a55e1c",
   "metadata": {},
   "outputs": [
    {
     "data": {
      "text/plain": [
       "Index(['Investigation.Type', 'Accident.Number', 'Event.Date', 'Location',\n",
       "       'Country', 'Latitude', 'Longitude', 'Injury.Severity',\n",
       "       'Aircraft.damage', 'Aircraft.Category', 'Make', 'Model',\n",
       "       'Amateur.Built', 'Number.of.Engines', 'Engine.Type',\n",
       "       'Purpose.of.flight', 'Total.Fatal.Injuries', 'Total.Serious.Injuries',\n",
       "       'Total.Minor.Injuries', 'Total.Uninjured', 'Weather.Condition',\n",
       "       'Broad.phase.of.flight', 'Report.Status', 'Publication.Date',\n",
       "       'injuries_&_fatalities'],\n",
       "      dtype='object')"
      ]
     },
     "execution_count": 17,
     "metadata": {},
     "output_type": "execute_result"
    }
   ],
   "source": [
    "aviation1['injuries_&_fatalities'] = aviation1['Total.Fatal.Injuries']+aviation1['Total.Serious.Injuries']+aviation1['Total.Minor.Injuries']\n",
    "aviation1.columns"
   ]
  },
  {
   "cell_type": "markdown",
   "id": "98003627-5f28-4460-8c03-4bf7027a6d90",
   "metadata": {},
   "source": [
    "EXPLORATORY DATA ANALYSIS\n",
    "\n",
    "Now that we have cleaned the dataset,it is ready to be used to translate the findings into actionable insights that the head of the new aviation division can use to help decide which aircraft to purchase."
   ]
  },
  {
   "cell_type": "markdown",
   "id": "ff347892-ea03-4165-85f3-53cdbe7e90a5",
   "metadata": {},
   "source": [
    "PLOT A:A Graph of Top 10 Aircraft Category by Count of Accidents\n",
    "\n",
    "Here we will start by visualizing the aircraft category and see the aircraft with the most and the least number of accidents."
   ]
  },
  {
   "cell_type": "code",
   "execution_count": 18,
   "id": "edd32437-f320-4ce3-a6a5-b563fa434312",
   "metadata": {},
   "outputs": [
    {
     "data": {
      "image/png": "[encoded data removed]",
      "text/plain": [
       "<Figure size 1440x1080 with 1 Axes>"
      ]
     },
     "metadata": {
      "needs_background": "light"
     },
     "output_type": "display_data"
    }
   ],
   "source": [
    "#Create a bar chart\n",
    "plt.figure(figsize=(20,15))\n",
    "#sort values in ascending order and take only the top 10\n",
    "aviation1['Aircraft.Category'].str.upper().value_counts().sort_values(ascending=False)[:10].plot(kind='bar', color='Red')\n",
    "plt.xticks(rotation=90)\n",
    "#Add labels\n",
    "plt.xlabel('Aircraft.Category')\n",
    "plt.ylabel(\"Count of Accidents\")\n",
    "plt.title(\"Top 10 Aircraft Categories involved in accidents\")\n",
    "y=aviation1['Aircraft.Category'].str.upper().value_counts().sort_values(ascending=False)[:10]\n",
    "plt.show()"
   ]
  },
  {
   "cell_type": "markdown",
   "id": "ec526b6f-53af-4e71-bd1d-f8f57659f39e",
   "metadata": {},
   "source": [
    "From the above graph we see that airplanes are the most involved in accidents followed by helicopters whereas ULTRALIGHT,WSFT ,Powered Parachute and Baloon have few involvement in accidents"
   ]
  },
  {
   "cell_type": "markdown",
   "id": "67a2b973-76f6-412e-8cd5-f971e8286d83",
   "metadata": {},
   "source": [
    "PLOT B :Count of Accidents in Different Countries\n",
    "We will have to use  the countries that have > 50 number of accidents.We will count the number of accidents as per countries"
   ]
  },
  {
   "cell_type": "code",
   "execution_count": 19,
   "id": "25bbb9f5-4853-4e44-8015-62bfc58ea78a",
   "metadata": {},
   "outputs": [
    {
     "data": {
      "text/plain": [
       "Country\n",
       "Afghanistan                5\n",
       "American Samoa             9\n",
       "Angola                     2\n",
       "Antarctica                 3\n",
       "Antigua and Barbuda        1\n",
       "                       ...  \n",
       "United States          20054\n",
       "Unknown                    1\n",
       "Uruguay                    1\n",
       "Venezuela                 35\n",
       "Virgin Islands             2\n",
       "Name: Country, Length: 118, dtype: int64"
      ]
     },
     "execution_count": 19,
     "metadata": {},
     "output_type": "execute_result"
    }
   ],
   "source": [
    "# Count of Accidents as per Countries\n",
    "accidents = aviation1['Country'].groupby(aviation1['Country']).count()\n",
    "accidents"
   ]
  },
  {
   "cell_type": "code",
   "execution_count": 20,
   "id": "a9401be6-fa51-4ef3-b4b4-35dca533add9",
   "metadata": {},
   "outputs": [
    {
     "data": {
      "image/png": "[encoded data removed]",
      "text/plain": [
       "<Figure size 1440x1080 with 1 Axes>"
      ]
     },
     "metadata": {
      "needs_background": "light"
     },
     "output_type": "display_data"
    }
   ],
   "source": [
    "# Plot Country using seaborn\n",
    "fig = plt.figure(figsize=(20,15))\n",
    "#create a list of countries with accidents that are more than 50\n",
    "accidents_Count = accidents[aviation1['Country'].groupby(aviation1['Country']).count() > 50]\n",
    "accidents_Count_df = pd.DataFrame({'Country':accidents_Count.index,'Count':accidents_Count.values})\n",
    "sns.barplot(x=accidents_Count_df['Country'],y=accidents_Count_df['Count'],data=aviation1,palette='Blues_d')\n",
    "plt.xticks(rotation=90)\n",
    "#Add labels\n",
    "plt.xlabel(\"Country\", size=15)\n",
    "plt.ylabel(\"Count of Accidents\", size=15)\n",
    "plt.title(\"distribution of accidents by Countries\", size=20)\n",
    "plt.show()"
   ]
  },
  {
   "attachments": {},
   "cell_type": "markdown",
   "id": "fd2aaff7-f8a1-49ca-a834-905413e57f0f",
   "metadata": {},
   "source": [
    "From the above graph we notice that United States has the highest number of accidents"
   ]
  },
  {
   "cell_type": "markdown",
   "id": "17e1e477-4a76-4ada-bf5d-b6f92702044c",
   "metadata": {},
   "source": [
    "   PLOT C: A Graph  of the top 10 companies that are involved in accidents\n",
    "   \n",
    "    -We will use.sort_values to put our 'make'columns be in ascending order so we can take the top 10  "
   ]
  },
  {
   "cell_type": "code",
   "execution_count": 21,
   "id": "9f65d56e-6e50-4bf6-9877-d041e138144e",
   "metadata": {},
   "outputs": [
    {
     "data": {
      "image/png": "[encoded data removed]",
      "text/plain": [
       "<Figure size 1440x1080 with 1 Axes>"
      ]
     },
     "metadata": {
      "needs_background": "light"
     },
     "output_type": "display_data"
    }
   ],
   "source": [
    "#Create a bar chart\n",
    "plt.figure(figsize=(20,15))\n",
    "#sort values in ascending order and take only the top 10\n",
    "aviation1['Make'].str.upper().value_counts().sort_values(ascending=False)[:10].plot(kind='bar', color='Red')\n",
    "plt.xticks(rotation=90)\n",
    "#Add labels\n",
    "plt.xlabel(\"Make\")\n",
    "plt.ylabel(\"Count of Accidents\")\n",
    "plt.title(\"Top 10 Notorious Companies in the United States\")\n",
    "y=aviation1['Make'].str.upper().value_counts().sort_values(ascending=False)[:10]\n",
    "plt.show()\n"
   ]
  },
  {
   "cell_type": "markdown",
   "id": "fdd31a50-98a6-47d2-84fe-e38735f8efec",
   "metadata": {},
   "source": [
    "From the graph above we notice that CESSNA is the company that is the most involved in the accident, followed by PIPER"
   ]
  },
  {
   "cell_type": "markdown",
   "id": "47937cd6-b784-44f7-990f-a8f3503a1963",
   "metadata": {},
   "source": [
    "PLOT D :Top 10  Models by Count of accidents ."
   ]
  },
  {
   "cell_type": "code",
   "execution_count": 22,
   "id": "db4ad813-ee4f-4c62-96e1-f29672c02ec0",
   "metadata": {},
   "outputs": [
    {
     "data": {
      "text/plain": [
       "array(['PA-28-181', '182H', 'A320', ..., 'KITFOX S5', 'M-8 EAGLE',\n",
       "       'PA-44'], dtype=object)"
      ]
     },
     "execution_count": 22,
     "metadata": {},
     "output_type": "execute_result"
    }
   ],
   "source": [
    "#check unique values in models\n",
    "aviation1['Model'].unique()"
   ]
  },
  {
   "cell_type": "code",
   "execution_count": 23,
   "id": "67bb2c8e-d239-44b9-b703-fb8c866e99a7",
   "metadata": {},
   "outputs": [
    {
     "data": {
      "image/png": "[encoded data removed]",
      "text/plain": [
       "<Figure size 1440x1080 with 1 Axes>"
      ]
     },
     "metadata": {
      "needs_background": "light"
     },
     "output_type": "display_data"
    }
   ],
   "source": [
    "#Create a bar chart\n",
    "plt.figure(figsize=(20,15))\n",
    "#sort values in ascending order and take only the top 10\n",
    "aviation1['Model'].str.upper().value_counts().sort_values(ascending=False)[:10].plot(kind='bar', color='Red')\n",
    "plt.xticks(rotation=90)\n",
    "#Add labels\n",
    "plt.xlabel(\"Model\")\n",
    "plt.ylabel(\"Count of Accidents\")\n",
    "plt.title(\"Top 10 Models involved in the accidents\")\n",
    "y=aviation1['Model'].str.upper().value_counts().sort_values(ascending=False)[:10]\n",
    "plt.show()\n"
   ]
  },
  {
   "cell_type": "markdown",
   "id": "b0547ddc-9671-4e31-a577-a6aaee44eb13",
   "metadata": {},
   "source": [
    "From the above ,we notice that model 172 is the most involved in accidents followed by PA28"
   ]
  },
  {
   "cell_type": "markdown",
   "id": "2df20a92-bbd8-478b-a469-67522a9da1da",
   "metadata": {},
   "source": [
    "PLOT E :A Graph of the Weather Condition by Count of accidents "
   ]
  },
  {
   "cell_type": "code",
   "execution_count": 24,
   "id": "d6e41c35-084a-49a6-a3ac-8fe0f6a84b8f",
   "metadata": {},
   "outputs": [
    {
     "data": {
      "image/png": "[encoded data removed]",
      "text/plain": [
       "<Figure size 1440x1080 with 1 Axes>"
      ]
     },
     "metadata": {
      "needs_background": "light"
     },
     "output_type": "display_data"
    }
   ],
   "source": [
    "#Create a graph using seaborn\n",
    "plt.figure(figsize=(20,15))\n",
    "splot = sns.countplot(data=aviation1, x='Weather.Condition', edgecolor=(0,0,0), linewidth=1, palette='Reds')\n",
    "\n",
    "#Show label\n",
    "plt.xlabel(\"Weather.Condition\")\n",
    "plt.ylabel(\"Number of Occurrences\")\n",
    "plt.title(\"What was the weather when Accident took place?\")\n",
    "plt.show()"
   ]
  },
  {
   "cell_type": "markdown",
   "id": "b223be60-7100-4ebc-b745-dbc49a989cc6",
   "metadata": {},
   "source": [
    "From the above graph we see that VMC is the weather condition in which there are the most accidents happening,followed by IMC .VMC is a good weather condition so the weather did not affect  most of the accidents.There are accidents that took place at IMC and unk weather condition which is not a good weather condition so the company should pay attention to that."
   ]
  },
  {
   "cell_type": "markdown",
   "id": "a3e84964-f6d4-43eb-a640-6c86e01228f5",
   "metadata": {},
   "source": [
    "PLOT F : Graph of the Injury Severity by Engine.Type  \n",
    "\n",
    "Here we will apply the pivot and groupby. We use groupby to group the data and pivot to unstack the grouped data"
   ]
  },
  {
   "cell_type": "code",
   "execution_count": 25,
   "id": "35194344-6ef2-4c3f-bd4e-def0a746181b",
   "metadata": {},
   "outputs": [
    {
     "data": {
      "text/plain": [
       "Index(['Investigation.Type', 'Accident.Number', 'Event.Date', 'Location',\n",
       "       'Country', 'Latitude', 'Longitude', 'Injury.Severity',\n",
       "       'Aircraft.damage', 'Aircraft.Category', 'Make', 'Model',\n",
       "       'Amateur.Built', 'Number.of.Engines', 'Engine.Type',\n",
       "       'Purpose.of.flight', 'Total.Fatal.Injuries', 'Total.Serious.Injuries',\n",
       "       'Total.Minor.Injuries', 'Total.Uninjured', 'Weather.Condition',\n",
       "       'Broad.phase.of.flight', 'Report.Status', 'Publication.Date',\n",
       "       'injuries_&_fatalities'],\n",
       "      dtype='object')"
      ]
     },
     "execution_count": 25,
     "metadata": {},
     "output_type": "execute_result"
    }
   ],
   "source": [
    "aviation1.columns"
   ]
  },
  {
   "cell_type": "code",
   "execution_count": 26,
   "id": "39c2a23f-e31f-4f4d-a59d-e62f2e88ec2e",
   "metadata": {},
   "outputs": [
    {
     "data": {
      "text/plain": [
       "array(['Fatal(1)', 'Incident', 'Non-Fatal', 'Fatal(2)', 'Fatal(3)',\n",
       "       'Fatal(5)', 'Fatal', 'Minor', 'Serious'], dtype=object)"
      ]
     },
     "execution_count": 26,
     "metadata": {},
     "output_type": "execute_result"
    }
   ],
   "source": [
    "aviation1['Injury.Severity'].unique()"
   ]
  },
  {
   "cell_type": "code",
   "execution_count": 27,
   "id": "87e7b8b8-378d-4e68-a129-9a212bed58d3",
   "metadata": {},
   "outputs": [
    {
     "name": "stdout",
     "output_type": "stream",
     "text": [
      "Injury.Severity   Fatal  Fatal(1)  Fatal(2)  Fatal(3)  Fatal(5)  Incident  \\\n",
      "Engine.Type                                                                 \n",
      "Electric            2.0       0.0       0.0       0.0       0.0       0.0   \n",
      "Geared Turbofan     0.0       0.0       0.0       0.0       0.0       0.0   \n",
      "Hybrid Rocket       1.0       0.0       0.0       0.0       0.0       0.0   \n",
      "LR                  0.0       0.0       0.0       0.0       0.0       0.0   \n",
      "NONE                0.0       0.0       0.0       0.0       0.0       0.0   \n",
      "None                1.0       0.0       0.0       0.0       0.0       0.0   \n",
      "Reciprocating    2787.0      25.0      17.0       7.0       1.0       3.0   \n",
      "Turbo Fan          45.0       0.0       0.0       0.0       0.0       0.0   \n",
      "Turbo Jet          25.0       0.0       1.0       0.0       0.0       1.0   \n",
      "Turbo Prop        241.0       0.0       0.0       0.0       0.0       0.0   \n",
      "Turbo Shaft       209.0       2.0       0.0       1.0       0.0       0.0   \n",
      "UNK                 0.0       0.0       0.0       0.0       0.0       0.0   \n",
      "Unknown             5.0       0.0       0.0       0.0       0.0       0.0   \n",
      "unknown          1004.0       4.0       0.0       0.0       0.0       0.0   \n",
      "\n",
      "Injury.Severity  Minor  Non-Fatal  Serious  \n",
      "Engine.Type                                 \n",
      "Electric           0.0        6.0      0.0  \n",
      "Geared Turbofan    0.0        1.0      0.0  \n",
      "Hybrid Rocket      0.0        0.0      0.0  \n",
      "LR                 0.0        1.0      0.0  \n",
      "NONE               0.0        2.0      0.0  \n",
      "None               0.0       15.0      0.0  \n",
      "Reciprocating     62.0    13066.0     22.0  \n",
      "Turbo Fan          0.0      353.0      0.0  \n",
      "Turbo Jet          0.0       68.0      0.0  \n",
      "Turbo Prop         2.0      775.0      1.0  \n",
      "Turbo Shaft        6.0      724.0      4.0  \n",
      "UNK                0.0        0.0      1.0  \n",
      "Unknown            0.0       14.0      0.0  \n",
      "unknown          127.0     1464.0    113.0  \n"
     ]
    },
    {
     "data": {
      "image/png": "[encoded data removed]",
      "text/plain": [
       "<Figure size 864x576 with 1 Axes>"
      ]
     },
     "metadata": {
      "needs_background": "light"
     },
     "output_type": "display_data"
    }
   ],
   "source": [
    "# Group by 'Engine.Type' and 'Injury.Severity' and count occurrences\n",
    "grouped_data = aviation1.groupby(['Engine.Type', 'Injury.Severity']).size().reset_index(name='Count')\n",
    "\n",
    "# Unstack the grouped data to get the desired format\n",
    "unstacked_data = grouped_data.pivot(index='Engine.Type', columns='Injury.Severity', values='Count').fillna(0)\n",
    "\n",
    "print(unstacked_data)\n",
    "\n",
    "# Visualize the relationship using a bar plot\n",
    "unstacked_data.plot(kind='bar', figsize=(12, 8), stacked=True, colormap='viridis')\n",
    "\n",
    "# Add labels\n",
    "plt.title('Injury Severity by Engine Type')\n",
    "plt.xlabel('Engine Type')\n",
    "plt.ylabel('Count of Injuries')\n",
    "plt.legend(title='Injury Severity')\n",
    "\n",
    "# Show the plot\n",
    "plt.show()"
   ]
  },
  {
   "cell_type": "markdown",
   "id": "c764e8c9-23b5-4a3c-9ee3-02f025df7ff7",
   "metadata": {},
   "source": [
    "From the above graph we notice that Reciprocating is the engine type with the most number of  both Non-Fatal and Fatal  injuries.\n",
    "Electric,Geared Turbofan , hybrid Rocket and LR are the engine types with 0  accidents"
   ]
  },
  {
   "cell_type": "markdown",
   "id": "dc365d22-0030-4d36-9362-513821d1e43f",
   "metadata": {},
   "source": [
    "Plot G: Graph of Total Fatal Injuries by Aircraft Damage .\n",
    "\n",
    "Here we will Group by Aircraft.damage and calculate the sum of the Total.Fatal.Injuries,then visualize the relationship using seaborn"
   ]
  },
  {
   "cell_type": "code",
   "execution_count": 28,
   "id": "ea326e9b-4c73-4601-afbf-95e8dce464ce",
   "metadata": {},
   "outputs": [
    {
     "data": {
      "image/png": "[encoded data removed]",
      "text/plain": [
       "<Figure size 720x432 with 1 Axes>"
      ]
     },
     "metadata": {
      "needs_background": "light"
     },
     "output_type": "display_data"
    }
   ],
   "source": [
    "# Group by 'Aircraft.damage' and calculate the sum of 'Total.Fatal.Injuries'\n",
    "damage_injuries = aviation1.groupby('Aircraft.damage')['Total.Fatal.Injuries'].sum().reset_index()\n",
    "\n",
    "# Ensure the 'Aircraft.damage' column is of type 'object' (string)\n",
    "aviation1['Aircraft.damage'] = aviation1['Aircraft.damage'].astype(str)\n",
    "\n",
    "# Ensure the 'Total.Fatal.Injuries' column is of type 'int'\n",
    "aviation1['Total.Fatal.Injuries'] = aviation1['Total.Fatal.Injuries'].astype(int)\n",
    "\n",
    "\n",
    "# Visualize the relationship using a bar plot\n",
    "plt.figure(figsize=(10, 6))\n",
    "sns.barplot(data=damage_injuries, x='Aircraft.damage', y='Total.Fatal.Injuries', palette='viridis')\n",
    "# Add labels\n",
    "plt.title('Total Fatal Injuries by Aircraft Damage')\n",
    "plt.xlabel('Aircraft Damage')\n",
    "plt.ylabel('Total Fatal Injuries')\n",
    "\n",
    "# Show the plot\n",
    "plt.show()"
   ]
  },
  {
   "cell_type": "markdown",
   "id": "8c4c2620-73a9-4bd4-8da2-4a574a2a3a9e",
   "metadata": {},
   "source": [
    "From the above graph we see that most of the aircrafts were completely destroyed"
   ]
  },
  {
   "cell_type": "markdown",
   "id": "803b5761-f240-494e-a454-c9dacfd7e516",
   "metadata": {},
   "source": [
    "CONCLUSION\n",
    "\n",
    "From the above analysis, we have discovered that:¶\n",
    "\n",
    "-We see that airplanes are the most involved in accidents followed by helicopters whereas ULTRALIGHT,WSFT ,Powered Parachute and Baloon have few involvement in accidents\n",
    "\n",
    "Most of the aviation accidents have taken place in the United States.\n",
    "\n",
    "CESSNA and PIPER are two topmost notorious companies which manufactured aircrafts that are involved in accidents as per this dataset.\n",
    "\n",
    "Models 152, 172, and 172N  are most involved in disastrous air accidents.\n",
    "\n",
    "Most of the aviation incidents have taken place during Takeoff and Landing.\n",
    "\n",
    "Engine Type of most of the  Non-Fatal accidents and fatal accidents was reciprocating  whereas electric was not involved in most of the accidents \n",
    "\n",
    "Most of the aircrafts were completely destroyed and some were substantially damaged.\n",
    "\n",
    "Most of the accidents took place when weather conditions were normal or at VMC while others took place at IMC "
   ]
  },
  {
   "attachments": {},
   "cell_type": "markdown",
   "id": "eeb562f0-fb27-474e-aa73-320bb41a1ca4",
   "metadata": {},
   "source": [
    "RECOMMENDATIONS\n",
    "- Consider aircrafts such as ULTRALIGHT,WSFT ,Powered Parachute and Baloon that have less involvement in accidents.\n",
    "  \n",
    "- Prioritize purchasing and operating aircraft from manufacturers with a lower incidence of accidents. This reduces potential risks and enhances safety for both commercial and private enterprises. Companies like CESSNA and PIPER have a higher frequency of accidents, indicating a need for stringent maintenance and safety protocols if their aircraft are considered.\n",
    "\n",
    "\n",
    "- Choose  engine types that have a lower involvement in fatal accidents such as electric. Emphasize the use of reliable and well-documented engines.\n",
    "\n",
    "-Avoid models with a higher incidence of accidents, such as the 152, 172, and 172N.Consider newer modelswith enhanced safety features or models such as 150M with fewer accident counts \n",
    "\n",
    "- Implement advanced training programs for pilots, focusing on takeoff and landing phases, which are critical points for safety.\n",
    "\n",
    " -Invest in robust maintenance and inspection protocols to minimize the risk of significant damage and fatalities. Adopt a proactive approach to aircraft safety.\n",
    "\n",
    "- Invest in modern avionics, weather monitoring systems, and landing assistance technologies to enhance operational safety.Especially the IMC weather condition as some accidents took place then.\n",
    "\n",
    "\n"
   ]
  }
 ],
 "metadata": {
  "kernelspec": {
   "display_name": "Python (learn-env)",
   "language": "python",
   "name": "learn-env"
  },
  "language_info": {
   "codemirror_mode": {
    "name": "ipython",
    "version": 3
   },
   "file_extension": ".py",
   "mimetype": "text/x-python",
   "name": "python",
   "nbconvert_exporter": "python",
   "pygments_lexer": "ipython3",
   "version": "3.8.5"
  }
 },
 "nbformat": 4,
 "nbformat_minor": 5
}
